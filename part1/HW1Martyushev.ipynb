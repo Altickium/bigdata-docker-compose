{
 "cells": [
  {
   "cell_type": "code",
   "execution_count": 5,
   "id": "98363f39-df81-491b-abac-40e151126b7e",
   "metadata": {},
   "outputs": [
    {
     "name": "stdout",
     "output_type": "stream",
     "text": [
      "Found 1 items\n",
      "drwx-wx-wx   - root supergroup          0 2023-11-28 17:59 /tmp/hive\n"
     ]
    }
   ],
   "source": [
    "!hadoop fs -ls /tmp"
   ]
  },
  {
   "cell_type": "code",
   "execution_count": 6,
   "id": "9c2b10dc-6fe1-49af-a1b3-c354740ee576",
   "metadata": {},
   "outputs": [],
   "source": [
    "!hadoop fs -mkdir /test"
   ]
  },
  {
   "cell_type": "code",
   "execution_count": 7,
   "id": "ba71c8c3-3ac1-4bb5-8aef-2e6ca53b49ea",
   "metadata": {},
   "outputs": [],
   "source": [
    "!hadoop fs -put somefile.txt /test"
   ]
  },
  {
   "cell_type": "code",
   "execution_count": 8,
   "id": "6a883f57-cb6b-4e2d-ae18-3c53cc8de080",
   "metadata": {},
   "outputs": [
    {
     "name": "stdout",
     "output_type": "stream",
     "text": [
      "-rw-r--r--   3 root supergroup        640 2023-11-28 20:26 /test/somefile.txt\n"
     ]
    }
   ],
   "source": [
    "!hadoop fs -ls /test/somefile.txt"
   ]
  },
  {
   "cell_type": "code",
   "execution_count": 10,
   "id": "eae02a30-6a2b-47bc-b214-fbfc3bd1410e",
   "metadata": {},
   "outputs": [
    {
     "name": "stdout",
     "output_type": "stream",
     "text": [
      "Shall I compare thee to a summer’s day?\n",
      "Thou art more lovely and more temperate:\n",
      "Rough winds do shake the darling buds of May,\n",
      "And summer’s lease hath all too short a date;\n",
      "Sometime too hot the eye of heaven shines,\n",
      "And often is his gold complexion dimm'd;\n",
      "And every fair from fair sometime declines,\n",
      "By chance or nature’s changing course untrimm'd;\n",
      "But thy eternal summer shall not fade,\n",
      "Nor lose possession of that fair thou ow’st;\n",
      "Nor shall death brag thou wander’st in his shade,\n",
      "When in eternal lines to time thou grow’st:\n",
      "   So long as men can breathe or eyes can see,\n",
      "   So long lives this, and this gives life to thee.\n",
      "\n"
     ]
    }
   ],
   "source": [
    "!hadoop fs -cat /test/somefile.txt"
   ]
  },
  {
   "cell_type": "code",
   "execution_count": 11,
   "id": "cd7450d4-be4a-4245-a53a-e74d974b705f",
   "metadata": {},
   "outputs": [
    {
     "name": "stdout",
     "output_type": "stream",
     "text": [
      "Number of Maps  = 15\n",
      "Samples per Map = 1800\n",
      "Wrote input for Map #0\n",
      "Wrote input for Map #1\n",
      "Wrote input for Map #2\n",
      "Wrote input for Map #3\n",
      "Wrote input for Map #4\n",
      "Wrote input for Map #5\n",
      "Wrote input for Map #6\n",
      "Wrote input for Map #7\n",
      "Wrote input for Map #8\n",
      "Wrote input for Map #9\n",
      "Wrote input for Map #10\n",
      "Wrote input for Map #11\n",
      "Wrote input for Map #12\n",
      "Wrote input for Map #13\n",
      "Wrote input for Map #14\n",
      "Starting Job\n",
      "2023-11-28 20:28:52 INFO  DefaultNoHARMFailoverProxyProvider:64 - Connecting to ResourceManager at resourcemanager/172.19.0.4:8032\n",
      "2023-11-28 20:28:52 INFO  JobResourceUploader:907 - Disabling Erasure Coding for path: /tmp/hadoop-yarn/staging/root/.staging/job_1701183486260_0001\n",
      "2023-11-28 20:28:52 INFO  FileInputFormat:300 - Total input files to process : 15\n",
      "2023-11-28 20:28:52 INFO  JobSubmitter:202 - number of splits:15\n",
      "2023-11-28 20:28:52 INFO  JobSubmitter:298 - Submitting tokens for job: job_1701183486260_0001\n",
      "2023-11-28 20:28:52 INFO  JobSubmitter:299 - Executing with tokens: []\n",
      "2023-11-28 20:28:52 INFO  Configuration:2854 - resource-types.xml not found\n",
      "2023-11-28 20:28:52 INFO  ResourceUtils:476 - Unable to find 'resource-types.xml'.\n",
      "2023-11-28 20:28:52 INFO  YarnClientImpl:338 - Submitted application application_1701183486260_0001\n",
      "2023-11-28 20:28:52 INFO  Job:1682 - The url to track the job: http://resourcemanager:8088/proxy/application_1701183486260_0001/\n",
      "2023-11-28 20:28:52 INFO  Job:1727 - Running job: job_1701183486260_0001\n",
      "2023-11-28 20:32:10 INFO  Job:1748 - Job job_1701183486260_0001 running in uber mode : false\n",
      "2023-11-28 20:32:10 INFO  Job:1755 -  map 0% reduce 0%\n",
      "2023-11-28 20:32:15 INFO  Job:1755 -  map 7% reduce 0%\n",
      "2023-11-28 20:32:16 INFO  Job:1755 -  map 13% reduce 0%\n",
      "2023-11-28 20:32:17 INFO  Job:1755 -  map 20% reduce 0%\n",
      "2023-11-28 20:32:19 INFO  Job:1755 -  map 27% reduce 0%\n",
      "2023-11-28 20:32:20 INFO  Job:1755 -  map 33% reduce 0%\n",
      "2023-11-28 20:32:21 INFO  Job:1755 -  map 40% reduce 0%\n",
      "2023-11-28 20:32:23 INFO  Job:1755 -  map 47% reduce 0%\n",
      "2023-11-28 20:32:24 INFO  Job:1755 -  map 53% reduce 0%\n",
      "2023-11-28 20:32:25 INFO  Job:1755 -  map 60% reduce 0%\n",
      "2023-11-28 20:32:27 INFO  Job:1755 -  map 67% reduce 0%\n",
      "2023-11-28 20:32:29 INFO  Job:1755 -  map 73% reduce 0%\n",
      "2023-11-28 20:32:31 INFO  Job:1755 -  map 80% reduce 0%\n",
      "2023-11-28 20:32:33 INFO  Job:1755 -  map 87% reduce 0%\n",
      "2023-11-28 20:32:35 INFO  Job:1755 -  map 93% reduce 0%\n",
      "2023-11-28 20:32:37 INFO  Job:1755 -  map 100% reduce 100%\n",
      "2023-11-28 20:32:37 INFO  Job:1766 - Job job_1701183486260_0001 completed successfully\n",
      "2023-11-28 20:32:37 INFO  Job:1773 - Counters: 54\n",
      "\tFile System Counters\n",
      "\t\tFILE: Number of bytes read=336\n",
      "\t\tFILE: Number of bytes written=4460994\n",
      "\t\tFILE: Number of read operations=0\n",
      "\t\tFILE: Number of large read operations=0\n",
      "\t\tFILE: Number of write operations=0\n",
      "\t\tHDFS: Number of bytes read=3860\n",
      "\t\tHDFS: Number of bytes written=215\n",
      "\t\tHDFS: Number of read operations=65\n",
      "\t\tHDFS: Number of large read operations=0\n",
      "\t\tHDFS: Number of write operations=3\n",
      "\t\tHDFS: Number of bytes read erasure-coded=0\n",
      "\tJob Counters \n",
      "\t\tLaunched map tasks=15\n",
      "\t\tLaunched reduce tasks=1\n",
      "\t\tRack-local map tasks=15\n",
      "\t\tTotal time spent by all maps in occupied slots (ms)=59020\n",
      "\t\tTotal time spent by all reduces in occupied slots (ms)=24550\n",
      "\t\tTotal time spent by all map tasks (ms)=29510\n",
      "\t\tTotal time spent by all reduce tasks (ms)=12275\n",
      "\t\tTotal vcore-milliseconds taken by all map tasks=29510\n",
      "\t\tTotal vcore-milliseconds taken by all reduce tasks=12275\n",
      "\t\tTotal megabyte-milliseconds taken by all map tasks=30218240\n",
      "\t\tTotal megabyte-milliseconds taken by all reduce tasks=12569600\n",
      "\tMap-Reduce Framework\n",
      "\t\tMap input records=15\n",
      "\t\tMap output records=30\n",
      "\t\tMap output bytes=270\n",
      "\t\tMap output materialized bytes=420\n",
      "\t\tInput split bytes=2090\n",
      "\t\tCombine input records=0\n",
      "\t\tCombine output records=0\n",
      "\t\tReduce input groups=2\n",
      "\t\tReduce shuffle bytes=420\n",
      "\t\tReduce input records=30\n",
      "\t\tReduce output records=0\n",
      "\t\tSpilled Records=60\n",
      "\t\tShuffled Maps =15\n",
      "\t\tFailed Shuffles=0\n",
      "\t\tMerged Map outputs=15\n",
      "\t\tGC time elapsed (ms)=731\n",
      "\t\tCPU time spent (ms)=5710\n",
      "\t\tPhysical memory (bytes) snapshot=4670005248\n",
      "\t\tVirtual memory (bytes) snapshot=40988143616\n",
      "\t\tTotal committed heap usage (bytes)=4977590272\n",
      "\t\tPeak Map Physical memory (bytes)=311250944\n",
      "\t\tPeak Map Virtual memory (bytes)=2566078464\n",
      "\t\tPeak Reduce Physical memory (bytes)=225845248\n",
      "\t\tPeak Reduce Virtual memory (bytes)=2568282112\n",
      "\tShuffle Errors\n",
      "\t\tBAD_ID=0\n",
      "\t\tCONNECTION=0\n",
      "\t\tIO_ERROR=0\n",
      "\t\tWRONG_LENGTH=0\n",
      "\t\tWRONG_MAP=0\n",
      "\t\tWRONG_REDUCE=0\n",
      "\tFile Input Format Counters \n",
      "\t\tBytes Read=1770\n",
      "\tFile Output Format Counters \n",
      "\t\tBytes Written=97\n",
      "Job Finished in 225.528 seconds\n",
      "Estimated value of Pi is 3.14162962962962962963\n"
     ]
    }
   ],
   "source": [
    "!hadoop jar /opt/hadoop/share/hadoop/mapreduce/hadoop-mapreduce-examples-3.3.6.jar pi 15 1800"
   ]
  }
 ],
 "metadata": {
  "kernelspec": {
   "display_name": "Python 3 (ipykernel)",
   "language": "python",
   "name": "python3"
  },
  "language_info": {
   "codemirror_mode": {
    "name": "ipython",
    "version": 3
   },
   "file_extension": ".py",
   "mimetype": "text/x-python",
   "name": "python",
   "nbconvert_exporter": "python",
   "pygments_lexer": "ipython3",
   "version": "3.10.12"
  }
 },
 "nbformat": 4,
 "nbformat_minor": 5
}
